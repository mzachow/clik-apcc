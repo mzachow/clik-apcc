{
 "cells": [
  {
   "cell_type": "code",
   "execution_count": 3,
   "metadata": {},
   "outputs": [],
   "source": [
    "import os\n",
    "import pandas as pd\n",
    "import numpy as np\n",
    "import xarray as xr\n",
    "#import seaborn as sns\n",
    "import modules.provide_datasets as data\n",
    "#import modules.preprocess_data as preprocess\n",
    "%load_ext autoreload\n",
    "%autoreload 2\n",
    "\n",
    "month_name_to_number = {\"JAN\":1, \"FEB\":2, \"MAR\":3, \"APR\":4, \"MAY\":5, \"JUN\":6, \"JUL\":7, \"AUG\":8, \"SEP\":9, \"OCT\":10, \"NOV\":11, \"DEC\":12}"
   ]
  },
  {
   "cell_type": "code",
   "execution_count": 4,
   "metadata": {},
   "outputs": [
    {
     "data": {
      "text/plain": [
       "'2022.11.0'"
      ]
     },
     "execution_count": 4,
     "metadata": {},
     "output_type": "execute_result"
    }
   ],
   "source": [
    "xr.__version__"
   ]
  },
  {
   "cell_type": "code",
   "execution_count": 5,
   "metadata": {},
   "outputs": [],
   "source": [
    "def read_data(model_name_as_string):\n",
    "    \"\"\"Read netcdf4 data files and concatenates them to one dataframe.\n",
    "    Params:\n",
    "     - model_name_as_string: string, the name of the model\n",
    "     \n",
    "     Returns:\n",
    "      - hindcasts: dataframe\n",
    "    \"\"\"\n",
    "    li_temp = []\n",
    "    li_prec = []\n",
    "    climate_vars = [\"prec\", \"t2m\"]\n",
    "    directory_as_str = \"data/\" + model_name_as_string + \"/\"\n",
    "    directory = os.fsencode(directory_as_str)\n",
    "    # to print progress of reading files\n",
    "    total_number_of_files = len([entry for entry in os.listdir(directory_as_str) if os.path.isfile(os.path.join(directory_as_str, entry))])\n",
    "    counter = 0\n",
    "    for file in os.listdir(directory):\n",
    "        counter += 1\n",
    "        filename = os.fsdecode(file)\n",
    "        # info about hindcasts are part of the filename\n",
    "        splitted_filename = filename.split(\"_\") \n",
    "        init_month = splitted_filename[-3]\n",
    "        year = splitted_filename[-2]\n",
    "        if filename.endswith(\"nc\"):\n",
    "            df = (xr\n",
    "                  .open_dataset(directory_as_str + filename, engine=\"netcdf4\")\n",
    "                  .to_dataframe()\n",
    "                  .reset_index()\n",
    "                  .assign(init_month=init_month, year=year, model=model_name_as_string)\n",
    "                  .groupby([\"model\", \"init_month\", \"year\", \"time\", \"lat\", \"lon\"])\n",
    "                  .mean())\n",
    "            df = df.loc[:, [c for c in df.columns if c in climate_vars]]\n",
    "            if filename.endswith(\"prec.nc\"): li_prec.append(df)\n",
    "            if filename.endswith(\"t2m.nc\"): li_temp.append(df)\n",
    "        print(str(counter) + \"/\" + str(total_number_of_files))\n",
    "    \n",
    "    print(\"concatenating temp and rain..\")        \n",
    "    hindcasts_prec = pd.concat(li_prec, axis=0, ignore_index=False)\n",
    "    hindcasts_temp = pd.concat(li_temp, axis=0, ignore_index=False)\n",
    "    hindcasts = hindcasts_prec.combine_first(hindcasts_temp).reset_index()\n",
    "    \n",
    "    print(\"basic preprocessing..\")  \n",
    "    # init_month as integer instead of string\n",
    "    hindcasts[\"init_month\"] = hindcasts[\"init_month\"].replace(month_name_to_number)\n",
    "    # Change to spatial encoding\n",
    "    hindcasts[\"lon\"] = hindcasts[\"lon\"].apply(lambda x: x - 360 if x > 180 else x)\n",
    "    # filter for Brazil\n",
    "    hindcasts = hindcasts.loc[(hindcasts[\"lat\"].between(-31, -21)) & (hindcasts[\"lon\"].between(-55, -48)), :].reset_index(drop=True)\n",
    "    # kelvin to celsius\n",
    "    if model_name_as_string in [\"BOM\", \"BCC\"]: \n",
    "        hindcasts[\"t2m\"] = hindcasts[\"t2m\"].apply(lambda x: x - 273.15)\n",
    "        # assign and filter zones based on coordinates\n",
    "        coordinates_to_zone = {\"-27.5-52.5\":1, \"-22.5-50.0\":2, \"-25.0-52.5\":3, \"-25.0-50.0\":4}\n",
    "        hindcasts[\"zone\"] = hindcasts.loc[:, [\"lat\", \"lon\"]].apply(lambda x: coordinates_to_zone[str(x[0])+str(x[1])] if (str(x[0])+str(x[1]) in coordinates_to_zone) else np.nan, axis=1)\n",
    "        hindcasts = hindcasts.dropna(subset=[\"zone\"]).reset_index(drop=True).drop(columns=[\"lat\", \"lon\"])\n",
    "    \n",
    "    return hindcasts\n",
    "    "
   ]
  },
  {
   "cell_type": "code",
   "execution_count": 6,
   "metadata": {},
   "outputs": [
    {
     "name": "stdout",
     "output_type": "stream",
     "text": [
      "1/15\n",
      "2/15\n",
      "3/15\n",
      "4/15\n",
      "5/15\n",
      "6/15\n",
      "7/15\n",
      "8/15\n",
      "9/15\n"
     ]
    },
    {
     "ename": "KeyboardInterrupt",
     "evalue": "",
     "output_type": "error",
     "traceback": [
      "\u001b[1;31m---------------------------------------------------------------------------\u001b[0m",
      "\u001b[1;31mKeyboardInterrupt\u001b[0m                         Traceback (most recent call last)",
      "Cell \u001b[1;32mIn [6], line 1\u001b[0m\n\u001b[1;32m----> 1\u001b[0m df \u001b[39m=\u001b[39m read_data(\u001b[39m\"\u001b[39;49m\u001b[39mbcc test\u001b[39;49m\u001b[39m\"\u001b[39;49m)\n",
      "Cell \u001b[1;32mIn [5], line 25\u001b[0m, in \u001b[0;36mread_data\u001b[1;34m(model_name_as_string)\u001b[0m\n\u001b[0;32m     23\u001b[0m year \u001b[39m=\u001b[39m splitted_filename[\u001b[39m-\u001b[39m\u001b[39m2\u001b[39m]\n\u001b[0;32m     24\u001b[0m \u001b[39mif\u001b[39;00m filename\u001b[39m.\u001b[39mendswith(\u001b[39m\"\u001b[39m\u001b[39mnc\u001b[39m\u001b[39m\"\u001b[39m):\n\u001b[1;32m---> 25\u001b[0m     df \u001b[39m=\u001b[39m (xr\n\u001b[0;32m     26\u001b[0m           \u001b[39m.\u001b[39;49mopen_dataset(directory_as_str \u001b[39m+\u001b[39;49m filename, engine\u001b[39m=\u001b[39;49m\u001b[39m\"\u001b[39;49m\u001b[39mnetcdf4\u001b[39;49m\u001b[39m\"\u001b[39;49m)\n\u001b[0;32m     27\u001b[0m           \u001b[39m.\u001b[39;49mto_dataframe()\n\u001b[0;32m     28\u001b[0m           \u001b[39m.\u001b[39;49mreset_index()\n\u001b[0;32m     29\u001b[0m           \u001b[39m.\u001b[39;49massign(init_month\u001b[39m=\u001b[39;49minit_month, year\u001b[39m=\u001b[39;49myear, model\u001b[39m=\u001b[39;49mmodel_name_as_string)\n\u001b[0;32m     30\u001b[0m           \u001b[39m.\u001b[39;49mgroupby([\u001b[39m\"\u001b[39;49m\u001b[39mmodel\u001b[39;49m\u001b[39m\"\u001b[39;49m, \u001b[39m\"\u001b[39;49m\u001b[39minit_month\u001b[39;49m\u001b[39m\"\u001b[39;49m, \u001b[39m\"\u001b[39;49m\u001b[39myear\u001b[39;49m\u001b[39m\"\u001b[39;49m, \u001b[39m\"\u001b[39;49m\u001b[39mtime\u001b[39;49m\u001b[39m\"\u001b[39;49m, \u001b[39m\"\u001b[39;49m\u001b[39mlat\u001b[39;49m\u001b[39m\"\u001b[39;49m, \u001b[39m\"\u001b[39;49m\u001b[39mlon\u001b[39;49m\u001b[39m\"\u001b[39;49m])\n\u001b[0;32m     31\u001b[0m           \u001b[39m.\u001b[39;49mmean())\n\u001b[0;32m     32\u001b[0m     df \u001b[39m=\u001b[39m df\u001b[39m.\u001b[39mloc[:, [c \u001b[39mfor\u001b[39;00m c \u001b[39min\u001b[39;00m df\u001b[39m.\u001b[39mcolumns \u001b[39mif\u001b[39;00m c \u001b[39min\u001b[39;00m climate_vars]]\n\u001b[0;32m     33\u001b[0m     \u001b[39mif\u001b[39;00m filename\u001b[39m.\u001b[39mendswith(\u001b[39m\"\u001b[39m\u001b[39mprec.nc\u001b[39m\u001b[39m\"\u001b[39m): li_prec\u001b[39m.\u001b[39mappend(df)\n",
      "File \u001b[1;32mc:\\Users\\Max Zachow\\anaconda3\\envs\\geospatial\\lib\\site-packages\\pandas\\core\\groupby\\groupby.py:2152\u001b[0m, in \u001b[0;36mGroupBy.mean\u001b[1;34m(self, numeric_only, engine, engine_kwargs)\u001b[0m\n\u001b[0;32m   2150\u001b[0m     \u001b[39mreturn\u001b[39;00m \u001b[39mself\u001b[39m\u001b[39m.\u001b[39m_numba_agg_general(sliding_mean, engine_kwargs)\n\u001b[0;32m   2151\u001b[0m \u001b[39melse\u001b[39;00m:\n\u001b[1;32m-> 2152\u001b[0m     result \u001b[39m=\u001b[39m \u001b[39mself\u001b[39;49m\u001b[39m.\u001b[39;49m_cython_agg_general(\n\u001b[0;32m   2153\u001b[0m         \u001b[39m\"\u001b[39;49m\u001b[39mmean\u001b[39;49m\u001b[39m\"\u001b[39;49m,\n\u001b[0;32m   2154\u001b[0m         alt\u001b[39m=\u001b[39;49m\u001b[39mlambda\u001b[39;49;00m x: Series(x)\u001b[39m.\u001b[39;49mmean(numeric_only\u001b[39m=\u001b[39;49mnumeric_only_bool),\n\u001b[0;32m   2155\u001b[0m         numeric_only\u001b[39m=\u001b[39;49mnumeric_only,\n\u001b[0;32m   2156\u001b[0m     )\n\u001b[0;32m   2157\u001b[0m     \u001b[39mreturn\u001b[39;00m result\u001b[39m.\u001b[39m__finalize__(\u001b[39mself\u001b[39m\u001b[39m.\u001b[39mobj, method\u001b[39m=\u001b[39m\u001b[39m\"\u001b[39m\u001b[39mgroupby\u001b[39m\u001b[39m\"\u001b[39m)\n",
      "File \u001b[1;32mc:\\Users\\Max Zachow\\anaconda3\\envs\\geospatial\\lib\\site-packages\\pandas\\core\\groupby\\groupby.py:1782\u001b[0m, in \u001b[0;36mGroupBy._cython_agg_general\u001b[1;34m(self, how, alt, numeric_only, min_count, ignore_failures, **kwargs)\u001b[0m\n\u001b[0;32m   1778\u001b[0m     \u001b[39mreturn\u001b[39;00m result\n\u001b[0;32m   1780\u001b[0m \u001b[39m# TypeError -> we may have an exception in trying to aggregate\u001b[39;00m\n\u001b[0;32m   1781\u001b[0m \u001b[39m#  continue and exclude the block\u001b[39;00m\n\u001b[1;32m-> 1782\u001b[0m new_mgr \u001b[39m=\u001b[39m data\u001b[39m.\u001b[39;49mgrouped_reduce(array_func, ignore_failures\u001b[39m=\u001b[39;49mignore_failures)\n\u001b[0;32m   1784\u001b[0m \u001b[39mif\u001b[39;00m \u001b[39mnot\u001b[39;00m is_ser \u001b[39mand\u001b[39;00m \u001b[39mlen\u001b[39m(new_mgr) \u001b[39m<\u001b[39m orig_len:\n\u001b[0;32m   1785\u001b[0m     warn_dropping_nuisance_columns_deprecated(\u001b[39mtype\u001b[39m(\u001b[39mself\u001b[39m), how, numeric_only)\n",
      "File \u001b[1;32mc:\\Users\\Max Zachow\\anaconda3\\envs\\geospatial\\lib\\site-packages\\pandas\\core\\internals\\managers.py:1524\u001b[0m, in \u001b[0;36mBlockManager.grouped_reduce\u001b[1;34m(self, func, ignore_failures)\u001b[0m\n\u001b[0;32m   1522\u001b[0m \u001b[39melse\u001b[39;00m:\n\u001b[0;32m   1523\u001b[0m     \u001b[39mtry\u001b[39;00m:\n\u001b[1;32m-> 1524\u001b[0m         applied \u001b[39m=\u001b[39m blk\u001b[39m.\u001b[39;49mapply(func)\n\u001b[0;32m   1525\u001b[0m     \u001b[39mexcept\u001b[39;00m (\u001b[39mTypeError\u001b[39;00m, \u001b[39mNotImplementedError\u001b[39;00m):\n\u001b[0;32m   1526\u001b[0m         \u001b[39mif\u001b[39;00m \u001b[39mnot\u001b[39;00m ignore_failures:\n",
      "File \u001b[1;32mc:\\Users\\Max Zachow\\anaconda3\\envs\\geospatial\\lib\\site-packages\\pandas\\core\\internals\\blocks.py:351\u001b[0m, in \u001b[0;36mBlock.apply\u001b[1;34m(self, func, **kwargs)\u001b[0m\n\u001b[0;32m    345\u001b[0m \u001b[39m@final\u001b[39m\n\u001b[0;32m    346\u001b[0m \u001b[39mdef\u001b[39;00m \u001b[39mapply\u001b[39m(\u001b[39mself\u001b[39m, func, \u001b[39m*\u001b[39m\u001b[39m*\u001b[39mkwargs) \u001b[39m-\u001b[39m\u001b[39m>\u001b[39m \u001b[39mlist\u001b[39m[Block]:\n\u001b[0;32m    347\u001b[0m     \u001b[39m\"\"\"\u001b[39;00m\n\u001b[0;32m    348\u001b[0m \u001b[39m    apply the function to my values; return a block if we are not\u001b[39;00m\n\u001b[0;32m    349\u001b[0m \u001b[39m    one\u001b[39;00m\n\u001b[0;32m    350\u001b[0m \u001b[39m    \"\"\"\u001b[39;00m\n\u001b[1;32m--> 351\u001b[0m     result \u001b[39m=\u001b[39m func(\u001b[39mself\u001b[39;49m\u001b[39m.\u001b[39;49mvalues, \u001b[39m*\u001b[39;49m\u001b[39m*\u001b[39;49mkwargs)\n\u001b[0;32m    353\u001b[0m     \u001b[39mreturn\u001b[39;00m \u001b[39mself\u001b[39m\u001b[39m.\u001b[39m_split_op_result(result)\n",
      "File \u001b[1;32mc:\\Users\\Max Zachow\\anaconda3\\envs\\geospatial\\lib\\site-packages\\pandas\\core\\groupby\\groupby.py:1763\u001b[0m, in \u001b[0;36mGroupBy._cython_agg_general.<locals>.array_func\u001b[1;34m(values)\u001b[0m\n\u001b[0;32m   1761\u001b[0m \u001b[39mdef\u001b[39;00m \u001b[39marray_func\u001b[39m(values: ArrayLike) \u001b[39m-\u001b[39m\u001b[39m>\u001b[39m ArrayLike:\n\u001b[0;32m   1762\u001b[0m     \u001b[39mtry\u001b[39;00m:\n\u001b[1;32m-> 1763\u001b[0m         result \u001b[39m=\u001b[39m \u001b[39mself\u001b[39;49m\u001b[39m.\u001b[39;49mgrouper\u001b[39m.\u001b[39;49m_cython_operation(\n\u001b[0;32m   1764\u001b[0m             \u001b[39m\"\u001b[39;49m\u001b[39maggregate\u001b[39;49m\u001b[39m\"\u001b[39;49m,\n\u001b[0;32m   1765\u001b[0m             values,\n\u001b[0;32m   1766\u001b[0m             how,\n\u001b[0;32m   1767\u001b[0m             axis\u001b[39m=\u001b[39;49mdata\u001b[39m.\u001b[39;49mndim \u001b[39m-\u001b[39;49m \u001b[39m1\u001b[39;49m,\n\u001b[0;32m   1768\u001b[0m             min_count\u001b[39m=\u001b[39;49mmin_count,\n\u001b[0;32m   1769\u001b[0m             \u001b[39m*\u001b[39;49m\u001b[39m*\u001b[39;49mkwargs,\n\u001b[0;32m   1770\u001b[0m         )\n\u001b[0;32m   1771\u001b[0m     \u001b[39mexcept\u001b[39;00m \u001b[39mNotImplementedError\u001b[39;00m:\n\u001b[0;32m   1772\u001b[0m         \u001b[39m# generally if we have numeric_only=False\u001b[39;00m\n\u001b[0;32m   1773\u001b[0m         \u001b[39m# and non-applicable functions\u001b[39;00m\n\u001b[0;32m   1774\u001b[0m         \u001b[39m# try to python agg\u001b[39;00m\n\u001b[0;32m   1775\u001b[0m         \u001b[39m# TODO: shouldn't min_count matter?\u001b[39;00m\n\u001b[0;32m   1776\u001b[0m         result \u001b[39m=\u001b[39m \u001b[39mself\u001b[39m\u001b[39m.\u001b[39m_agg_py_fallback(values, ndim\u001b[39m=\u001b[39mdata\u001b[39m.\u001b[39mndim, alt\u001b[39m=\u001b[39malt)\n",
      "File \u001b[1;32mc:\\Users\\Max Zachow\\anaconda3\\envs\\geospatial\\lib\\site-packages\\pandas\\core\\groupby\\ops.py:1035\u001b[0m, in \u001b[0;36mBaseGrouper._cython_operation\u001b[1;34m(self, kind, values, how, axis, min_count, **kwargs)\u001b[0m\n\u001b[0;32m   1030\u001b[0m \u001b[39m\"\"\"\u001b[39;00m\n\u001b[0;32m   1031\u001b[0m \u001b[39mReturns the values of a cython operation.\u001b[39;00m\n\u001b[0;32m   1032\u001b[0m \u001b[39m\"\"\"\u001b[39;00m\n\u001b[0;32m   1033\u001b[0m \u001b[39massert\u001b[39;00m kind \u001b[39min\u001b[39;00m [\u001b[39m\"\u001b[39m\u001b[39mtransform\u001b[39m\u001b[39m\"\u001b[39m, \u001b[39m\"\u001b[39m\u001b[39maggregate\u001b[39m\u001b[39m\"\u001b[39m]\n\u001b[1;32m-> 1035\u001b[0m cy_op \u001b[39m=\u001b[39m WrappedCythonOp(kind\u001b[39m=\u001b[39mkind, how\u001b[39m=\u001b[39mhow, has_dropped_na\u001b[39m=\u001b[39m\u001b[39mself\u001b[39;49m\u001b[39m.\u001b[39;49mhas_dropped_na)\n\u001b[0;32m   1037\u001b[0m ids, _, _ \u001b[39m=\u001b[39m \u001b[39mself\u001b[39m\u001b[39m.\u001b[39mgroup_info\n\u001b[0;32m   1038\u001b[0m ngroups \u001b[39m=\u001b[39m \u001b[39mself\u001b[39m\u001b[39m.\u001b[39mngroups\n",
      "File \u001b[1;32mc:\\Users\\Max Zachow\\anaconda3\\envs\\geospatial\\lib\\site-packages\\pandas\\_libs\\properties.pyx:36\u001b[0m, in \u001b[0;36mpandas._libs.properties.CachedProperty.__get__\u001b[1;34m()\u001b[0m\n",
      "File \u001b[1;32mc:\\Users\\Max Zachow\\anaconda3\\envs\\geospatial\\lib\\site-packages\\pandas\\core\\groupby\\ops.py:942\u001b[0m, in \u001b[0;36mBaseGrouper.has_dropped_na\u001b[1;34m(self)\u001b[0m\n\u001b[0;32m    936\u001b[0m \u001b[39m@final\u001b[39m\n\u001b[0;32m    937\u001b[0m \u001b[39m@cache_readonly\u001b[39m\n\u001b[0;32m    938\u001b[0m \u001b[39mdef\u001b[39;00m \u001b[39mhas_dropped_na\u001b[39m(\u001b[39mself\u001b[39m) \u001b[39m-\u001b[39m\u001b[39m>\u001b[39m \u001b[39mbool\u001b[39m:\n\u001b[0;32m    939\u001b[0m     \u001b[39m\"\"\"\u001b[39;00m\n\u001b[0;32m    940\u001b[0m \u001b[39m    Whether grouper has null value(s) that are dropped.\u001b[39;00m\n\u001b[0;32m    941\u001b[0m \u001b[39m    \"\"\"\u001b[39;00m\n\u001b[1;32m--> 942\u001b[0m     \u001b[39mreturn\u001b[39;00m \u001b[39mbool\u001b[39m((\u001b[39mself\u001b[39;49m\u001b[39m.\u001b[39;49mgroup_info[\u001b[39m0\u001b[39m] \u001b[39m<\u001b[39m \u001b[39m0\u001b[39m)\u001b[39m.\u001b[39many())\n",
      "File \u001b[1;32mc:\\Users\\Max Zachow\\anaconda3\\envs\\geospatial\\lib\\site-packages\\pandas\\_libs\\properties.pyx:36\u001b[0m, in \u001b[0;36mpandas._libs.properties.CachedProperty.__get__\u001b[1;34m()\u001b[0m\n",
      "File \u001b[1;32mc:\\Users\\Max Zachow\\anaconda3\\envs\\geospatial\\lib\\site-packages\\pandas\\core\\groupby\\ops.py:946\u001b[0m, in \u001b[0;36mBaseGrouper.group_info\u001b[1;34m(self)\u001b[0m\n\u001b[0;32m    944\u001b[0m \u001b[39m@cache_readonly\u001b[39m\n\u001b[0;32m    945\u001b[0m \u001b[39mdef\u001b[39;00m \u001b[39mgroup_info\u001b[39m(\u001b[39mself\u001b[39m) \u001b[39m-\u001b[39m\u001b[39m>\u001b[39m \u001b[39mtuple\u001b[39m[npt\u001b[39m.\u001b[39mNDArray[np\u001b[39m.\u001b[39mintp], npt\u001b[39m.\u001b[39mNDArray[np\u001b[39m.\u001b[39mintp], \u001b[39mint\u001b[39m]:\n\u001b[1;32m--> 946\u001b[0m     comp_ids, obs_group_ids \u001b[39m=\u001b[39m \u001b[39mself\u001b[39;49m\u001b[39m.\u001b[39;49m_get_compressed_codes()\n\u001b[0;32m    948\u001b[0m     ngroups \u001b[39m=\u001b[39m \u001b[39mlen\u001b[39m(obs_group_ids)\n\u001b[0;32m    949\u001b[0m     comp_ids \u001b[39m=\u001b[39m ensure_platform_int(comp_ids)\n",
      "File \u001b[1;32mc:\\Users\\Max Zachow\\anaconda3\\envs\\geospatial\\lib\\site-packages\\pandas\\core\\groupby\\ops.py:972\u001b[0m, in \u001b[0;36mBaseGrouper._get_compressed_codes\u001b[1;34m(self)\u001b[0m\n\u001b[0;32m    966\u001b[0m \u001b[39m@final\u001b[39m\n\u001b[0;32m    967\u001b[0m \u001b[39mdef\u001b[39;00m \u001b[39m_get_compressed_codes\u001b[39m(\n\u001b[0;32m    968\u001b[0m     \u001b[39mself\u001b[39m,\n\u001b[0;32m    969\u001b[0m ) \u001b[39m-\u001b[39m\u001b[39m>\u001b[39m \u001b[39mtuple\u001b[39m[npt\u001b[39m.\u001b[39mNDArray[np\u001b[39m.\u001b[39msignedinteger], npt\u001b[39m.\u001b[39mNDArray[np\u001b[39m.\u001b[39mintp]]:\n\u001b[0;32m    970\u001b[0m     \u001b[39m# The first returned ndarray may have any signed integer dtype\u001b[39;00m\n\u001b[0;32m    971\u001b[0m     \u001b[39mif\u001b[39;00m \u001b[39mlen\u001b[39m(\u001b[39mself\u001b[39m\u001b[39m.\u001b[39mgroupings) \u001b[39m>\u001b[39m \u001b[39m1\u001b[39m:\n\u001b[1;32m--> 972\u001b[0m         group_index \u001b[39m=\u001b[39m get_group_index(\u001b[39mself\u001b[39;49m\u001b[39m.\u001b[39;49mcodes, \u001b[39mself\u001b[39m\u001b[39m.\u001b[39mshape, sort\u001b[39m=\u001b[39m\u001b[39mTrue\u001b[39;00m, xnull\u001b[39m=\u001b[39m\u001b[39mTrue\u001b[39;00m)\n\u001b[0;32m    973\u001b[0m         \u001b[39mreturn\u001b[39;00m compress_group_index(group_index, sort\u001b[39m=\u001b[39m\u001b[39mself\u001b[39m\u001b[39m.\u001b[39m_sort)\n\u001b[0;32m    974\u001b[0m         \u001b[39m# FIXME: compress_group_index's second return value is int64, not intp\u001b[39;00m\n",
      "File \u001b[1;32mc:\\Users\\Max Zachow\\anaconda3\\envs\\geospatial\\lib\\site-packages\\pandas\\core\\groupby\\ops.py:897\u001b[0m, in \u001b[0;36mBaseGrouper.codes\u001b[1;34m(self)\u001b[0m\n\u001b[0;32m    894\u001b[0m \u001b[39m@final\u001b[39m\n\u001b[0;32m    895\u001b[0m \u001b[39m@property\u001b[39m\n\u001b[0;32m    896\u001b[0m \u001b[39mdef\u001b[39;00m \u001b[39mcodes\u001b[39m(\u001b[39mself\u001b[39m) \u001b[39m-\u001b[39m\u001b[39m>\u001b[39m \u001b[39mlist\u001b[39m[npt\u001b[39m.\u001b[39mNDArray[np\u001b[39m.\u001b[39msignedinteger]]:\n\u001b[1;32m--> 897\u001b[0m     \u001b[39mreturn\u001b[39;00m [ping\u001b[39m.\u001b[39mcodes \u001b[39mfor\u001b[39;00m ping \u001b[39min\u001b[39;00m \u001b[39mself\u001b[39m\u001b[39m.\u001b[39mgroupings]\n",
      "File \u001b[1;32mc:\\Users\\Max Zachow\\anaconda3\\envs\\geospatial\\lib\\site-packages\\pandas\\core\\groupby\\ops.py:897\u001b[0m, in \u001b[0;36m<listcomp>\u001b[1;34m(.0)\u001b[0m\n\u001b[0;32m    894\u001b[0m \u001b[39m@final\u001b[39m\n\u001b[0;32m    895\u001b[0m \u001b[39m@property\u001b[39m\n\u001b[0;32m    896\u001b[0m \u001b[39mdef\u001b[39;00m \u001b[39mcodes\u001b[39m(\u001b[39mself\u001b[39m) \u001b[39m-\u001b[39m\u001b[39m>\u001b[39m \u001b[39mlist\u001b[39m[npt\u001b[39m.\u001b[39mNDArray[np\u001b[39m.\u001b[39msignedinteger]]:\n\u001b[1;32m--> 897\u001b[0m     \u001b[39mreturn\u001b[39;00m [ping\u001b[39m.\u001b[39;49mcodes \u001b[39mfor\u001b[39;00m ping \u001b[39min\u001b[39;00m \u001b[39mself\u001b[39m\u001b[39m.\u001b[39mgroupings]\n",
      "File \u001b[1;32mc:\\Users\\Max Zachow\\anaconda3\\envs\\geospatial\\lib\\site-packages\\pandas\\core\\groupby\\grouper.py:621\u001b[0m, in \u001b[0;36mGrouping.codes\u001b[1;34m(self)\u001b[0m\n\u001b[0;32m    617\u001b[0m \u001b[39mif\u001b[39;00m \u001b[39mself\u001b[39m\u001b[39m.\u001b[39m_codes \u001b[39mis\u001b[39;00m \u001b[39mnot\u001b[39;00m \u001b[39mNone\u001b[39;00m:\n\u001b[0;32m    618\u001b[0m     \u001b[39m# _codes is set in __init__ for MultiIndex cases\u001b[39;00m\n\u001b[0;32m    619\u001b[0m     \u001b[39mreturn\u001b[39;00m \u001b[39mself\u001b[39m\u001b[39m.\u001b[39m_codes\n\u001b[1;32m--> 621\u001b[0m \u001b[39mreturn\u001b[39;00m \u001b[39mself\u001b[39;49m\u001b[39m.\u001b[39;49m_codes_and_uniques[\u001b[39m0\u001b[39m]\n",
      "File \u001b[1;32mc:\\Users\\Max Zachow\\anaconda3\\envs\\geospatial\\lib\\site-packages\\pandas\\_libs\\properties.pyx:36\u001b[0m, in \u001b[0;36mpandas._libs.properties.CachedProperty.__get__\u001b[1;34m()\u001b[0m\n",
      "File \u001b[1;32mc:\\Users\\Max Zachow\\anaconda3\\envs\\geospatial\\lib\\site-packages\\pandas\\core\\groupby\\grouper.py:692\u001b[0m, in \u001b[0;36mGrouping._codes_and_uniques\u001b[1;34m(self)\u001b[0m\n\u001b[0;32m    685\u001b[0m     uniques \u001b[39m=\u001b[39m (\n\u001b[0;32m    686\u001b[0m         \u001b[39mself\u001b[39m\u001b[39m.\u001b[39mgrouping_vector\u001b[39m.\u001b[39mresult_index\u001b[39m.\u001b[39m_values  \u001b[39m# type: ignore[assignment]\u001b[39;00m\n\u001b[0;32m    687\u001b[0m     )\n\u001b[0;32m    688\u001b[0m \u001b[39melse\u001b[39;00m:\n\u001b[0;32m    689\u001b[0m     \u001b[39m# GH35667, replace dropna=False with use_na_sentinel=False\u001b[39;00m\n\u001b[0;32m    690\u001b[0m     \u001b[39m# error: Incompatible types in assignment (expression has type \"Union[\u001b[39;00m\n\u001b[0;32m    691\u001b[0m     \u001b[39m# ndarray[Any, Any], Index]\", variable has type \"Categorical\")\u001b[39;00m\n\u001b[1;32m--> 692\u001b[0m     codes, uniques \u001b[39m=\u001b[39m algorithms\u001b[39m.\u001b[39;49mfactorize(  \u001b[39m# type: ignore[assignment]\u001b[39;49;00m\n\u001b[0;32m    693\u001b[0m         \u001b[39mself\u001b[39;49m\u001b[39m.\u001b[39;49mgrouping_vector, sort\u001b[39m=\u001b[39;49m\u001b[39mself\u001b[39;49m\u001b[39m.\u001b[39;49m_sort, use_na_sentinel\u001b[39m=\u001b[39;49m\u001b[39mself\u001b[39;49m\u001b[39m.\u001b[39;49m_dropna\n\u001b[0;32m    694\u001b[0m     )\n\u001b[0;32m    695\u001b[0m \u001b[39mreturn\u001b[39;00m codes, uniques\n",
      "File \u001b[1;32mc:\\Users\\Max Zachow\\anaconda3\\envs\\geospatial\\lib\\site-packages\\pandas\\core\\algorithms.py:818\u001b[0m, in \u001b[0;36mfactorize\u001b[1;34m(values, sort, na_sentinel, use_na_sentinel, size_hint)\u001b[0m\n\u001b[0;32m    815\u001b[0m             \u001b[39m# Don't modify (potentially user-provided) array\u001b[39;00m\n\u001b[0;32m    816\u001b[0m             values \u001b[39m=\u001b[39m np\u001b[39m.\u001b[39mwhere(null_mask, na_value, values)\n\u001b[1;32m--> 818\u001b[0m     codes, uniques \u001b[39m=\u001b[39m factorize_array(\n\u001b[0;32m    819\u001b[0m         values,\n\u001b[0;32m    820\u001b[0m         na_sentinel\u001b[39m=\u001b[39;49mna_sentinel_arg,\n\u001b[0;32m    821\u001b[0m         size_hint\u001b[39m=\u001b[39;49msize_hint,\n\u001b[0;32m    822\u001b[0m     )\n\u001b[0;32m    824\u001b[0m \u001b[39mif\u001b[39;00m sort \u001b[39mand\u001b[39;00m \u001b[39mlen\u001b[39m(uniques) \u001b[39m>\u001b[39m \u001b[39m0\u001b[39m:\n\u001b[0;32m    825\u001b[0m     \u001b[39mif\u001b[39;00m na_sentinel \u001b[39mis\u001b[39;00m \u001b[39mNone\u001b[39;00m:\n\u001b[0;32m    826\u001b[0m         \u001b[39m# TODO: Can remove when na_sentinel=na_sentinel as in TODO above\u001b[39;00m\n",
      "File \u001b[1;32mc:\\Users\\Max Zachow\\anaconda3\\envs\\geospatial\\lib\\site-packages\\pandas\\core\\algorithms.py:574\u001b[0m, in \u001b[0;36mfactorize_array\u001b[1;34m(values, na_sentinel, size_hint, na_value, mask)\u001b[0m\n\u001b[0;32m    571\u001b[0m hash_klass, values \u001b[39m=\u001b[39m _get_hashtable_algo(values)\n\u001b[0;32m    573\u001b[0m table \u001b[39m=\u001b[39m hash_klass(size_hint \u001b[39mor\u001b[39;00m \u001b[39mlen\u001b[39m(values))\n\u001b[1;32m--> 574\u001b[0m uniques, codes \u001b[39m=\u001b[39m table\u001b[39m.\u001b[39;49mfactorize(\n\u001b[0;32m    575\u001b[0m     values,\n\u001b[0;32m    576\u001b[0m     na_sentinel\u001b[39m=\u001b[39;49mna_sentinel,\n\u001b[0;32m    577\u001b[0m     na_value\u001b[39m=\u001b[39;49mna_value,\n\u001b[0;32m    578\u001b[0m     mask\u001b[39m=\u001b[39;49mmask,\n\u001b[0;32m    579\u001b[0m     ignore_na\u001b[39m=\u001b[39;49mignore_na,\n\u001b[0;32m    580\u001b[0m )\n\u001b[0;32m    582\u001b[0m \u001b[39m# re-cast e.g. i8->dt64/td64, uint8->bool\u001b[39;00m\n\u001b[0;32m    583\u001b[0m uniques \u001b[39m=\u001b[39m _reconstruct_data(uniques, original\u001b[39m.\u001b[39mdtype, original)\n",
      "\u001b[1;31mKeyboardInterrupt\u001b[0m: "
     ]
    }
   ],
   "source": [
    "df = read_data(\"bcc test\")"
   ]
  },
  {
   "cell_type": "code",
   "execution_count": 44,
   "metadata": {},
   "outputs": [],
   "source": [
    "#df.to_csv(\"BCC_hindcasts.csv\", index=False)"
   ]
  },
  {
   "cell_type": "code",
   "execution_count": 65,
   "metadata": {},
   "outputs": [],
   "source": [
    "bom = pd.read_csv(\"BOM_hindcasts.csv\")\n",
    "bcc = pd.read_csv(\"BCC_hindcasts.csv\")"
   ]
  },
  {
   "cell_type": "code",
   "execution_count": 66,
   "metadata": {},
   "outputs": [],
   "source": [
    "coordinates_to_zone = {\"-27.5-52.5\":1, \"-22.5-50.0\":2, \"-25.0-52.5\":3, \"-25.0-50.0\":4}\n",
    "bom[\"zone\"] = bom.loc[:, [\"lat\", \"lon\"]].apply(lambda x: coordinates_to_zone[str(x[0])+str(x[1])] if (str(x[0])+str(x[1]) in coordinates_to_zone) else np.nan, axis=1)\n",
    "bom = bom.dropna(subset=[\"zone\"]).reset_index(drop=True).drop(columns=[\"lat\", \"lon\"])"
   ]
  },
  {
   "cell_type": "code",
   "execution_count": 67,
   "metadata": {},
   "outputs": [],
   "source": [
    "\n",
    "bom[\"time\"] = pd.to_datetime(bom[\"time\"])\n",
    "bom[\"month\"] = bom[\"time\"].dt.month\n",
    "bom = bom[[\"model\", \"init_month\", \"zone\", \"month\", \"year\", \"time\", \"t2m\", \"prec\"]]"
   ]
  },
  {
   "cell_type": "code",
   "execution_count": 68,
   "metadata": {},
   "outputs": [
    {
     "data": {
      "text/html": [
       "<div>\n",
       "<style scoped>\n",
       "    .dataframe tbody tr th:only-of-type {\n",
       "        vertical-align: middle;\n",
       "    }\n",
       "\n",
       "    .dataframe tbody tr th {\n",
       "        vertical-align: top;\n",
       "    }\n",
       "\n",
       "    .dataframe thead th {\n",
       "        text-align: right;\n",
       "    }\n",
       "</style>\n",
       "<table border=\"1\" class=\"dataframe\">\n",
       "  <thead>\n",
       "    <tr style=\"text-align: right;\">\n",
       "      <th></th>\n",
       "      <th>model</th>\n",
       "      <th>init_month</th>\n",
       "      <th>zone</th>\n",
       "      <th>month</th>\n",
       "      <th>year</th>\n",
       "      <th>time</th>\n",
       "      <th>t2m</th>\n",
       "      <th>prec</th>\n",
       "    </tr>\n",
       "  </thead>\n",
       "  <tbody>\n",
       "    <tr>\n",
       "      <th>0</th>\n",
       "      <td>BOM</td>\n",
       "      <td>4</td>\n",
       "      <td>1.0</td>\n",
       "      <td>4</td>\n",
       "      <td>1993</td>\n",
       "      <td>1993-04-01</td>\n",
       "      <td>19.008386</td>\n",
       "      <td>7.176180</td>\n",
       "    </tr>\n",
       "    <tr>\n",
       "      <th>1</th>\n",
       "      <td>BOM</td>\n",
       "      <td>4</td>\n",
       "      <td>3.0</td>\n",
       "      <td>4</td>\n",
       "      <td>1993</td>\n",
       "      <td>1993-04-01</td>\n",
       "      <td>20.428674</td>\n",
       "      <td>7.169197</td>\n",
       "    </tr>\n",
       "    <tr>\n",
       "      <th>2</th>\n",
       "      <td>BOM</td>\n",
       "      <td>4</td>\n",
       "      <td>4.0</td>\n",
       "      <td>4</td>\n",
       "      <td>1993</td>\n",
       "      <td>1993-04-01</td>\n",
       "      <td>18.901697</td>\n",
       "      <td>5.727837</td>\n",
       "    </tr>\n",
       "    <tr>\n",
       "      <th>3</th>\n",
       "      <td>BOM</td>\n",
       "      <td>4</td>\n",
       "      <td>2.0</td>\n",
       "      <td>4</td>\n",
       "      <td>1993</td>\n",
       "      <td>1993-04-01</td>\n",
       "      <td>22.458826</td>\n",
       "      <td>4.238339</td>\n",
       "    </tr>\n",
       "    <tr>\n",
       "      <th>4</th>\n",
       "      <td>BOM</td>\n",
       "      <td>4</td>\n",
       "      <td>1.0</td>\n",
       "      <td>5</td>\n",
       "      <td>1993</td>\n",
       "      <td>1993-05-01</td>\n",
       "      <td>14.911127</td>\n",
       "      <td>6.725364</td>\n",
       "    </tr>\n",
       "  </tbody>\n",
       "</table>\n",
       "</div>"
      ],
      "text/plain": [
       "  model  init_month  zone  month  year       time        t2m      prec\n",
       "0   BOM           4   1.0      4  1993 1993-04-01  19.008386  7.176180\n",
       "1   BOM           4   3.0      4  1993 1993-04-01  20.428674  7.169197\n",
       "2   BOM           4   4.0      4  1993 1993-04-01  18.901697  5.727837\n",
       "3   BOM           4   2.0      4  1993 1993-04-01  22.458826  4.238339\n",
       "4   BOM           4   1.0      5  1993 1993-05-01  14.911127  6.725364"
      ]
     },
     "execution_count": 68,
     "metadata": {},
     "output_type": "execute_result"
    }
   ],
   "source": [
    "bom.head()"
   ]
  },
  {
   "cell_type": "code",
   "execution_count": 72,
   "metadata": {},
   "outputs": [],
   "source": [
    "bcc[\"month\"] = pd.to_datetime(bcc[\"time\"]).dt.month"
   ]
  },
  {
   "cell_type": "code",
   "execution_count": 74,
   "metadata": {},
   "outputs": [],
   "source": [
    "bcc = bcc[[\"model\", \"init_month\", \"zone\", \"month\", \"year\", \"time\", \"t2m\", \"prec\"]]"
   ]
  },
  {
   "cell_type": "code",
   "execution_count": 77,
   "metadata": {},
   "outputs": [],
   "source": [
    "bcc.to_csv(\"BCC_hindcasts.csv\", index=False)"
   ]
  },
  {
   "cell_type": "code",
   "execution_count": 78,
   "metadata": {},
   "outputs": [],
   "source": [
    "bom.to_csv(\"BOM_hindcasts.csv\", index=False)"
   ]
  },
  {
   "cell_type": "code",
   "execution_count": 79,
   "metadata": {},
   "outputs": [],
   "source": [
    "bom = pd.read_csv(\"BOM_hindcasts.csv\")\n",
    "bcc = pd.read_csv(\"BCC_hindcasts.csv\")"
   ]
  },
  {
   "cell_type": "code",
   "execution_count": 128,
   "metadata": {},
   "outputs": [],
   "source": [
    "df = pd.concat([bom, bcc], ignore_index=True)"
   ]
  },
  {
   "cell_type": "code",
   "execution_count": 129,
   "metadata": {},
   "outputs": [],
   "source": [
    "df[\"time\"] = pd.to_datetime(df[\"time\"])"
   ]
  },
  {
   "cell_type": "code",
   "execution_count": 130,
   "metadata": {},
   "outputs": [],
   "source": [
    "df = df.loc[df[\"init_month\"].isin(list(range(5,11)))].reset_index(drop=True)"
   ]
  },
  {
   "cell_type": "code",
   "execution_count": 131,
   "metadata": {},
   "outputs": [],
   "source": [
    "df = df.loc[df[\"time\"].dt.month.between(8,10)].set_index([\"model\", \"init_month\", \"zone\", \"year\", \"month\", \"time\"]).sort_index().drop_duplicates()"
   ]
  },
  {
   "cell_type": "code",
   "execution_count": 132,
   "metadata": {},
   "outputs": [
    {
     "data": {
      "text/html": [
       "<div>\n",
       "<style scoped>\n",
       "    .dataframe tbody tr th:only-of-type {\n",
       "        vertical-align: middle;\n",
       "    }\n",
       "\n",
       "    .dataframe tbody tr th {\n",
       "        vertical-align: top;\n",
       "    }\n",
       "\n",
       "    .dataframe thead th {\n",
       "        text-align: right;\n",
       "    }\n",
       "</style>\n",
       "<table border=\"1\" class=\"dataframe\">\n",
       "  <thead>\n",
       "    <tr style=\"text-align: right;\">\n",
       "      <th></th>\n",
       "      <th></th>\n",
       "      <th></th>\n",
       "      <th></th>\n",
       "      <th></th>\n",
       "      <th></th>\n",
       "      <th>t2m</th>\n",
       "      <th>prec</th>\n",
       "    </tr>\n",
       "    <tr>\n",
       "      <th>model</th>\n",
       "      <th>init_month</th>\n",
       "      <th>zone</th>\n",
       "      <th>year</th>\n",
       "      <th>month</th>\n",
       "      <th>time</th>\n",
       "      <th></th>\n",
       "      <th></th>\n",
       "    </tr>\n",
       "  </thead>\n",
       "  <tbody>\n",
       "    <tr>\n",
       "      <th rowspan=\"5\" valign=\"top\">BCC</th>\n",
       "      <th rowspan=\"5\" valign=\"top\">5</th>\n",
       "      <th rowspan=\"5\" valign=\"top\">1.0</th>\n",
       "      <th rowspan=\"3\" valign=\"top\">1993</th>\n",
       "      <th>8</th>\n",
       "      <th>1993-08-01</th>\n",
       "      <td>12.385309</td>\n",
       "      <td>1.855946</td>\n",
       "    </tr>\n",
       "    <tr>\n",
       "      <th>9</th>\n",
       "      <th>1993-09-01</th>\n",
       "      <td>15.075952</td>\n",
       "      <td>2.788637</td>\n",
       "    </tr>\n",
       "    <tr>\n",
       "      <th>10</th>\n",
       "      <th>1993-10-01</th>\n",
       "      <td>17.784998</td>\n",
       "      <td>2.992980</td>\n",
       "    </tr>\n",
       "    <tr>\n",
       "      <th rowspan=\"2\" valign=\"top\">1994</th>\n",
       "      <th>8</th>\n",
       "      <th>1994-08-01</th>\n",
       "      <td>13.135217</td>\n",
       "      <td>1.311258</td>\n",
       "    </tr>\n",
       "    <tr>\n",
       "      <th>9</th>\n",
       "      <th>1994-09-01</th>\n",
       "      <td>15.209100</td>\n",
       "      <td>2.253363</td>\n",
       "    </tr>\n",
       "    <tr>\n",
       "      <th>...</th>\n",
       "      <th>...</th>\n",
       "      <th>...</th>\n",
       "      <th>...</th>\n",
       "      <th>...</th>\n",
       "      <th>...</th>\n",
       "      <td>...</td>\n",
       "      <td>...</td>\n",
       "    </tr>\n",
       "    <tr>\n",
       "      <th rowspan=\"5\" valign=\"top\">BOM</th>\n",
       "      <th rowspan=\"5\" valign=\"top\">10</th>\n",
       "      <th rowspan=\"5\" valign=\"top\">4.0</th>\n",
       "      <th>2012</th>\n",
       "      <th>10</th>\n",
       "      <th>2012-10-01</th>\n",
       "      <td>18.743219</td>\n",
       "      <td>6.109427</td>\n",
       "    </tr>\n",
       "    <tr>\n",
       "      <th>2013</th>\n",
       "      <th>10</th>\n",
       "      <th>2013-10-01</th>\n",
       "      <td>17.696466</td>\n",
       "      <td>6.798573</td>\n",
       "    </tr>\n",
       "    <tr>\n",
       "      <th>2014</th>\n",
       "      <th>10</th>\n",
       "      <th>2014-10-01</th>\n",
       "      <td>17.955255</td>\n",
       "      <td>5.772328</td>\n",
       "    </tr>\n",
       "    <tr>\n",
       "      <th>2015</th>\n",
       "      <th>10</th>\n",
       "      <th>2015-10-01</th>\n",
       "      <td>18.390710</td>\n",
       "      <td>8.439065</td>\n",
       "    </tr>\n",
       "    <tr>\n",
       "      <th>2016</th>\n",
       "      <th>10</th>\n",
       "      <th>2016-10-01</th>\n",
       "      <td>18.078790</td>\n",
       "      <td>5.986126</td>\n",
       "    </tr>\n",
       "  </tbody>\n",
       "</table>\n",
       "<p>2868 rows × 2 columns</p>\n",
       "</div>"
      ],
      "text/plain": [
       "                                                   t2m      prec\n",
       "model init_month zone year month time                           \n",
       "BCC   5          1.0  1993 8     1993-08-01  12.385309  1.855946\n",
       "                           9     1993-09-01  15.075952  2.788637\n",
       "                           10    1993-10-01  17.784998  2.992980\n",
       "                      1994 8     1994-08-01  13.135217  1.311258\n",
       "                           9     1994-09-01  15.209100  2.253363\n",
       "...                                                ...       ...\n",
       "BOM   10         4.0  2012 10    2012-10-01  18.743219  6.109427\n",
       "                      2013 10    2013-10-01  17.696466  6.798573\n",
       "                      2014 10    2014-10-01  17.955255  5.772328\n",
       "                      2015 10    2015-10-01  18.390710  8.439065\n",
       "                      2016 10    2016-10-01  18.078790  5.986126\n",
       "\n",
       "[2868 rows x 2 columns]"
      ]
     },
     "execution_count": 132,
     "metadata": {},
     "output_type": "execute_result"
    }
   ],
   "source": [
    "df"
   ]
  },
  {
   "cell_type": "code",
   "execution_count": 136,
   "metadata": {},
   "outputs": [],
   "source": [
    "observations = data.read_observed_weather() # daily; 1993-2016"
   ]
  },
  {
   "cell_type": "code",
   "execution_count": 141,
   "metadata": {},
   "outputs": [],
   "source": [
    "observations = observations.loc[:, [\"tmean\", \"rain\"]].reset_index()\n",
    "observations = observations.loc[observations[\"month\"].between(8,10)]"
   ]
  },
  {
   "cell_type": "code",
   "execution_count": 144,
   "metadata": {},
   "outputs": [],
   "source": [
    "observations = observations.groupby([\"model\", \"init_month\", \"zone\", \"year\", \"month\"]).mean()"
   ]
  },
  {
   "cell_type": "code",
   "execution_count": 151,
   "metadata": {},
   "outputs": [],
   "source": [
    "df.columns = [\"tmean\", \"rain\"]"
   ]
  },
  {
   "cell_type": "code",
   "execution_count": 157,
   "metadata": {},
   "outputs": [
    {
     "data": {
      "text/html": [
       "<div>\n",
       "<style scoped>\n",
       "    .dataframe tbody tr th:only-of-type {\n",
       "        vertical-align: middle;\n",
       "    }\n",
       "\n",
       "    .dataframe tbody tr th {\n",
       "        vertical-align: top;\n",
       "    }\n",
       "\n",
       "    .dataframe thead th {\n",
       "        text-align: right;\n",
       "    }\n",
       "</style>\n",
       "<table border=\"1\" class=\"dataframe\">\n",
       "  <thead>\n",
       "    <tr style=\"text-align: right;\">\n",
       "      <th></th>\n",
       "      <th></th>\n",
       "      <th></th>\n",
       "      <th></th>\n",
       "      <th></th>\n",
       "      <th>tmean</th>\n",
       "      <th>rain</th>\n",
       "    </tr>\n",
       "    <tr>\n",
       "      <th>model</th>\n",
       "      <th>init_month</th>\n",
       "      <th>zone</th>\n",
       "      <th>year</th>\n",
       "      <th>month</th>\n",
       "      <th></th>\n",
       "      <th></th>\n",
       "    </tr>\n",
       "  </thead>\n",
       "  <tbody>\n",
       "    <tr>\n",
       "      <th rowspan=\"11\" valign=\"top\">WS</th>\n",
       "      <th rowspan=\"11\" valign=\"top\">11</th>\n",
       "      <th rowspan=\"5\" valign=\"top\">1</th>\n",
       "      <th rowspan=\"3\" valign=\"top\">1993</th>\n",
       "      <th>8</th>\n",
       "      <td>15.217742</td>\n",
       "      <td>0.490323</td>\n",
       "    </tr>\n",
       "    <tr>\n",
       "      <th>9</th>\n",
       "      <td>14.960000</td>\n",
       "      <td>4.550000</td>\n",
       "    </tr>\n",
       "    <tr>\n",
       "      <th>10</th>\n",
       "      <td>20.109677</td>\n",
       "      <td>4.974194</td>\n",
       "    </tr>\n",
       "    <tr>\n",
       "      <th rowspan=\"2\" valign=\"top\">1994</th>\n",
       "      <th>8</th>\n",
       "      <td>15.691935</td>\n",
       "      <td>1.483871</td>\n",
       "    </tr>\n",
       "    <tr>\n",
       "      <th>9</th>\n",
       "      <td>17.461667</td>\n",
       "      <td>5.390000</td>\n",
       "    </tr>\n",
       "    <tr>\n",
       "      <th>...</th>\n",
       "      <th>...</th>\n",
       "      <th>...</th>\n",
       "      <td>...</td>\n",
       "      <td>...</td>\n",
       "    </tr>\n",
       "    <tr>\n",
       "      <th rowspan=\"5\" valign=\"top\">4</th>\n",
       "      <th rowspan=\"2\" valign=\"top\">2015</th>\n",
       "      <th>9</th>\n",
       "      <td>20.775000</td>\n",
       "      <td>4.373333</td>\n",
       "    </tr>\n",
       "    <tr>\n",
       "      <th>10</th>\n",
       "      <td>20.148387</td>\n",
       "      <td>5.696774</td>\n",
       "    </tr>\n",
       "    <tr>\n",
       "      <th rowspan=\"3\" valign=\"top\">2016</th>\n",
       "      <th>8</th>\n",
       "      <td>14.746774</td>\n",
       "      <td>5.219355</td>\n",
       "    </tr>\n",
       "    <tr>\n",
       "      <th>9</th>\n",
       "      <td>17.261667</td>\n",
       "      <td>1.920000</td>\n",
       "    </tr>\n",
       "    <tr>\n",
       "      <th>10</th>\n",
       "      <td>20.164516</td>\n",
       "      <td>8.290323</td>\n",
       "    </tr>\n",
       "  </tbody>\n",
       "</table>\n",
       "<p>288 rows × 2 columns</p>\n",
       "</div>"
      ],
      "text/plain": [
       "                                      tmean      rain\n",
       "model init_month zone year month                     \n",
       "WS    11         1    1993 8      15.217742  0.490323\n",
       "                           9      14.960000  4.550000\n",
       "                           10     20.109677  4.974194\n",
       "                      1994 8      15.691935  1.483871\n",
       "                           9      17.461667  5.390000\n",
       "...                                     ...       ...\n",
       "                 4    2015 9      20.775000  4.373333\n",
       "                           10     20.148387  5.696774\n",
       "                      2016 8      14.746774  5.219355\n",
       "                           9      17.261667  1.920000\n",
       "                           10     20.164516  8.290323\n",
       "\n",
       "[288 rows x 2 columns]"
      ]
     },
     "execution_count": 157,
     "metadata": {},
     "output_type": "execute_result"
    }
   ],
   "source": [
    "observations"
   ]
  },
  {
   "cell_type": "code",
   "execution_count": 160,
   "metadata": {},
   "outputs": [],
   "source": [
    "df = df.reset_index().drop(columns=[\"time\"]).set_index([\"model\", \"init_month\", \"zone\", \"year\", \"month\"])"
   ]
  },
  {
   "cell_type": "code",
   "execution_count": 167,
   "metadata": {},
   "outputs": [
    {
     "data": {
      "text/html": [
       "<div>\n",
       "<style scoped>\n",
       "    .dataframe tbody tr th:only-of-type {\n",
       "        vertical-align: middle;\n",
       "    }\n",
       "\n",
       "    .dataframe tbody tr th {\n",
       "        vertical-align: top;\n",
       "    }\n",
       "\n",
       "    .dataframe thead th {\n",
       "        text-align: right;\n",
       "    }\n",
       "</style>\n",
       "<table border=\"1\" class=\"dataframe\">\n",
       "  <thead>\n",
       "    <tr style=\"text-align: right;\">\n",
       "      <th></th>\n",
       "      <th>tmean</th>\n",
       "      <th>rain</th>\n",
       "    </tr>\n",
       "    <tr>\n",
       "      <th>month</th>\n",
       "      <th></th>\n",
       "      <th></th>\n",
       "    </tr>\n",
       "  </thead>\n",
       "  <tbody>\n",
       "    <tr>\n",
       "      <th>8</th>\n",
       "      <td>13.135217</td>\n",
       "      <td>1.311258</td>\n",
       "    </tr>\n",
       "    <tr>\n",
       "      <th>9</th>\n",
       "      <td>15.209100</td>\n",
       "      <td>2.253363</td>\n",
       "    </tr>\n",
       "    <tr>\n",
       "      <th>10</th>\n",
       "      <td>18.030695</td>\n",
       "      <td>3.190443</td>\n",
       "    </tr>\n",
       "  </tbody>\n",
       "</table>\n",
       "</div>"
      ],
      "text/plain": [
       "           tmean      rain\n",
       "month                     \n",
       "8      13.135217  1.311258\n",
       "9      15.209100  2.253363\n",
       "10     18.030695  3.190443"
      ]
     },
     "execution_count": 167,
     "metadata": {},
     "output_type": "execute_result"
    }
   ],
   "source": [
    "df.loc[(\"BCC\", 5, 1, 1994)]"
   ]
  },
  {
   "cell_type": "code",
   "execution_count": 184,
   "metadata": {},
   "outputs": [
    {
     "ename": "RuntimeWarning",
     "evalue": "invalid value encountered in true_divide",
     "output_type": "error",
     "traceback": [
      "\u001b[1;31m---------------------------------------------------------------------------\u001b[0m",
      "\u001b[1;31mRuntimeWarning\u001b[0m                            Traceback (most recent call last)",
      "\u001b[1;32mc:\\Users\\Max Zachow\\OneDrive\\Documents\\GitHub\\clik-apcc\\read_data.ipynb Zelle 26\u001b[0m in \u001b[0;36m<cell line: 3>\u001b[1;34m()\u001b[0m\n\u001b[0;32m      <a href='vscode-notebook-cell:/c%3A/Users/Max%20Zachow/OneDrive/Documents/GitHub/clik-apcc/read_data.ipynb#X46sZmlsZQ%3D%3D?line=0'>1</a>\u001b[0m \u001b[39mimport\u001b[39;00m \u001b[39mwarnings\u001b[39;00m\n\u001b[0;32m      <a href='vscode-notebook-cell:/c%3A/Users/Max%20Zachow/OneDrive/Documents/GitHub/clik-apcc/read_data.ipynb#X46sZmlsZQ%3D%3D?line=1'>2</a>\u001b[0m warnings\u001b[39m.\u001b[39mfilterwarnings(\u001b[39m'\u001b[39m\u001b[39merror\u001b[39m\u001b[39m'\u001b[39m)\n\u001b[1;32m----> <a href='vscode-notebook-cell:/c%3A/Users/Max%20Zachow/OneDrive/Documents/GitHub/clik-apcc/read_data.ipynb#X46sZmlsZQ%3D%3D?line=2'>3</a>\u001b[0m hindcasts_temp_adjusted \u001b[39m=\u001b[39m preprocess\u001b[39m.\u001b[39;49madjust_temperature_bias(observations, df)\n",
      "File \u001b[1;32mc:\\Users\\Max Zachow\\OneDrive\\Documents\\GitHub\\clik-apcc\\modules\\preprocess_data.py:67\u001b[0m, in \u001b[0;36madjust_temperature_bias\u001b[1;34m(observed, predicted, correction_method)\u001b[0m\n\u001b[0;32m     64\u001b[0m     \u001b[39m# Perform bias-adjustment for temperature variables.\u001b[39;00m\n\u001b[0;32m     66\u001b[0m     bc_tmean \u001b[39m=\u001b[39m BiasCorrection(observations_used_as_reference[\u001b[39m\"\u001b[39m\u001b[39mtmean\u001b[39m\u001b[39m\"\u001b[39m]\u001b[39m+\u001b[39m\u001b[39m1e-4\u001b[39m, hindcasts_used_as_reference[\u001b[39m\"\u001b[39m\u001b[39mtmean\u001b[39m\u001b[39m\"\u001b[39m]\u001b[39m+\u001b[39m\u001b[39m1e-4\u001b[39m, group_content[\u001b[39m\"\u001b[39m\u001b[39mtmean\u001b[39m\u001b[39m\"\u001b[39m])\n\u001b[1;32m---> 67\u001b[0m     group_content[\u001b[39m\"\u001b[39m\u001b[39mtmean\u001b[39m\u001b[39m\"\u001b[39m] \u001b[39m=\u001b[39m bc_tmean\u001b[39m.\u001b[39;49mcorrect(method\u001b[39m=\u001b[39;49mcorrection_method)\n\u001b[0;32m     72\u001b[0m     li\u001b[39m.\u001b[39mappend(group_content)\n\u001b[0;32m     74\u001b[0m result \u001b[39m=\u001b[39m pd\u001b[39m.\u001b[39mconcat(li, axis\u001b[39m=\u001b[39m\u001b[39m0\u001b[39m, ignore_index\u001b[39m=\u001b[39m\u001b[39mFalse\u001b[39;00m)\n",
      "File \u001b[1;32mc:\\Users\\Max Zachow\\anaconda3\\lib\\site-packages\\bias_correction.py:208\u001b[0m, in \u001b[0;36mBiasCorrection.correct\u001b[1;34m(self, method, lower_limit, cdf_threshold)\u001b[0m\n\u001b[0;32m    200\u001b[0m     corrected \u001b[39m=\u001b[39m gamma_correction(\n\u001b[0;32m    201\u001b[0m         \u001b[39mself\u001b[39m\u001b[39m.\u001b[39mobs_data,\n\u001b[0;32m    202\u001b[0m         \u001b[39mself\u001b[39m\u001b[39m.\u001b[39mmod_data,\n\u001b[1;32m   (...)\u001b[0m\n\u001b[0;32m    205\u001b[0m         cdf_threshold\u001b[39m=\u001b[39mcdf_threshold,\n\u001b[0;32m    206\u001b[0m     )\n\u001b[0;32m    207\u001b[0m \u001b[39melif\u001b[39;00m method \u001b[39m==\u001b[39m \u001b[39m\"\u001b[39m\u001b[39mnormal_mapping\u001b[39m\u001b[39m\"\u001b[39m:\n\u001b[1;32m--> 208\u001b[0m     corrected \u001b[39m=\u001b[39m normal_correction(\n\u001b[0;32m    209\u001b[0m         \u001b[39mself\u001b[39;49m\u001b[39m.\u001b[39;49mobs_data, \u001b[39mself\u001b[39;49m\u001b[39m.\u001b[39;49mmod_data, \u001b[39mself\u001b[39;49m\u001b[39m.\u001b[39;49msce_data, cdf_threshold\u001b[39m=\u001b[39;49mcdf_threshold\n\u001b[0;32m    210\u001b[0m     )\n\u001b[0;32m    211\u001b[0m \u001b[39melif\u001b[39;00m method \u001b[39m==\u001b[39m \u001b[39m\"\u001b[39m\u001b[39mbasic_quantile\u001b[39m\u001b[39m\"\u001b[39m:\n\u001b[0;32m    212\u001b[0m     corrected \u001b[39m=\u001b[39m quantile_correction(\n\u001b[0;32m    213\u001b[0m         \u001b[39mself\u001b[39m\u001b[39m.\u001b[39mobs_data, \u001b[39mself\u001b[39m\u001b[39m.\u001b[39mmod_data, \u001b[39mself\u001b[39m\u001b[39m.\u001b[39msce_data, modified\u001b[39m=\u001b[39m\u001b[39mFalse\u001b[39;00m\n\u001b[0;32m    214\u001b[0m     )\n",
      "File \u001b[1;32mc:\\Users\\Max Zachow\\anaconda3\\lib\\site-packages\\bias_correction.py:147\u001b[0m, in \u001b[0;36mnormal_correction\u001b[1;34m(obs_data, mod_data, sce_data, cdf_threshold)\u001b[0m\n\u001b[0;32m    145\u001b[0m obs_cdf \u001b[39m=\u001b[39m norm\u001b[39m.\u001b[39mcdf(np\u001b[39m.\u001b[39msort(obs_detrended), \u001b[39m*\u001b[39mobs_norm)\n\u001b[0;32m    146\u001b[0m mod_cdf \u001b[39m=\u001b[39m norm\u001b[39m.\u001b[39mcdf(np\u001b[39m.\u001b[39msort(mod_detrended), \u001b[39m*\u001b[39mmod_norm)\n\u001b[1;32m--> 147\u001b[0m sce_cdf \u001b[39m=\u001b[39m norm\u001b[39m.\u001b[39;49mcdf(np\u001b[39m.\u001b[39;49msort(sce_detrended), \u001b[39m*\u001b[39;49msce_norm)\n\u001b[0;32m    149\u001b[0m obs_cdf \u001b[39m=\u001b[39m np\u001b[39m.\u001b[39mmaximum(np\u001b[39m.\u001b[39mminimum(obs_cdf, cdf_threshold), \u001b[39m1\u001b[39m \u001b[39m-\u001b[39m cdf_threshold)\n\u001b[0;32m    150\u001b[0m mod_cdf \u001b[39m=\u001b[39m np\u001b[39m.\u001b[39mmaximum(np\u001b[39m.\u001b[39mminimum(mod_cdf, cdf_threshold), \u001b[39m1\u001b[39m \u001b[39m-\u001b[39m cdf_threshold)\n",
      "File \u001b[1;32mc:\\Users\\Max Zachow\\anaconda3\\lib\\site-packages\\scipy\\stats\\_distn_infrastructure.py:1953\u001b[0m, in \u001b[0;36mrv_continuous.cdf\u001b[1;34m(self, x, *args, **kwds)\u001b[0m\n\u001b[0;32m   1951\u001b[0m _a, _b \u001b[39m=\u001b[39m \u001b[39mself\u001b[39m\u001b[39m.\u001b[39m_get_support(\u001b[39m*\u001b[39margs)\n\u001b[0;32m   1952\u001b[0m dtyp \u001b[39m=\u001b[39m np\u001b[39m.\u001b[39mfind_common_type([x\u001b[39m.\u001b[39mdtype, np\u001b[39m.\u001b[39mfloat64], [])\n\u001b[1;32m-> 1953\u001b[0m x \u001b[39m=\u001b[39m np\u001b[39m.\u001b[39masarray((x \u001b[39m-\u001b[39;49m loc)\u001b[39m/\u001b[39;49mscale, dtype\u001b[39m=\u001b[39mdtyp)\n\u001b[0;32m   1954\u001b[0m cond0 \u001b[39m=\u001b[39m \u001b[39mself\u001b[39m\u001b[39m.\u001b[39m_argcheck(\u001b[39m*\u001b[39margs) \u001b[39m&\u001b[39m (scale \u001b[39m>\u001b[39m \u001b[39m0\u001b[39m)\n\u001b[0;32m   1955\u001b[0m cond1 \u001b[39m=\u001b[39m \u001b[39mself\u001b[39m\u001b[39m.\u001b[39m_open_support_mask(x, \u001b[39m*\u001b[39margs) \u001b[39m&\u001b[39m (scale \u001b[39m>\u001b[39m \u001b[39m0\u001b[39m)\n",
      "\u001b[1;31mRuntimeWarning\u001b[0m: invalid value encountered in true_divide"
     ]
    }
   ],
   "source": [
    "import warnings\n",
    "warnings.filterwarnings('error')\n",
    "hindcasts_temp_adjusted = preprocess.adjust_temperature_bias(observations, df)"
   ]
  },
  {
   "cell_type": "code",
   "execution_count": 186,
   "metadata": {},
   "outputs": [
    {
     "data": {
      "text/plain": [
       "<AxesSubplot:ylabel='Density'>"
      ]
     },
     "execution_count": 186,
     "metadata": {},
     "output_type": "execute_result"
    },
    {
     "data": {
      "image/png": "[encoded data removed]",
      "text/plain": [
       "<Figure size 432x288 with 1 Axes>"
      ]
     },
     "metadata": {
      "needs_background": "light"
     },
     "output_type": "display_data"
    }
   ],
   "source": [
    "df[\"tmean\"].plot(kind=\"density\")"
   ]
  },
  {
   "cell_type": "code",
   "execution_count": 187,
   "metadata": {},
   "outputs": [
    {
     "data": {
      "text/plain": [
       "<AxesSubplot:ylabel='Density'>"
      ]
     },
     "execution_count": 187,
     "metadata": {},
     "output_type": "execute_result"
    },
    {
     "data": {
      "image/png": "[encoded data removed]",
      "text/plain": [
       "<Figure size 432x288 with 1 Axes>"
      ]
     },
     "metadata": {
      "needs_background": "light"
     },
     "output_type": "display_data"
    }
   ],
   "source": [
    "observations[\"tmean\"].plot(kind=\"density\")"
   ]
  },
  {
   "cell_type": "markdown",
   "metadata": {},
   "source": []
  }
 ],
 "metadata": {
  "kernelspec": {
   "display_name": "Python 3.8.0 ('geospatial')",
   "language": "python",
   "name": "python3"
  },
  "language_info": {
   "codemirror_mode": {
    "name": "ipython",
    "version": 3
   },
   "file_extension": ".py",
   "mimetype": "text/x-python",
   "name": "python",
   "nbconvert_exporter": "python",
   "pygments_lexer": "ipython3",
   "version": "3.8.0"
  },
  "orig_nbformat": 4,
  "vscode": {
   "interpreter": {
    "hash": "3defe0cc3d3d54f02a1572862cbbf1c665fc2dba211b501647237531695c978b"
   }
  }
 },
 "nbformat": 4,
 "nbformat_minor": 2
}
